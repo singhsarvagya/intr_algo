{
 "cells": [
  {
   "cell_type": "code",
   "execution_count": 1,
   "metadata": {},
   "outputs": [],
   "source": [
    "import random\n",
    "import math"
   ]
  },
  {
   "cell_type": "code",
   "execution_count": 2,
   "metadata": {},
   "outputs": [],
   "source": [
    "def Partion(A, p, r):\n",
    "    pivot = A[r]\n",
    "    i = p - 1\n",
    "    for j in range(p, r):\n",
    "        if A[j] <= pivot:\n",
    "            i += 1\n",
    "            # swap element at A[i] with A[j]\n",
    "            tmp = A[i]\n",
    "            A[i] = A[j]\n",
    "            A[j] = tmp\n",
    "        \n",
    "    # swap element at A[i+1] with A[r]\n",
    "    tmp = A[i+1]\n",
    "    A[i+1] = A[r]\n",
    "    A[r] = tmp\n",
    "    \n",
    "    return i + 1    \n",
    "\n",
    "def Quicksort(A, p, r):\n",
    "    if p < r:\n",
    "        q = Partion(A, p, r)\n",
    "        Quicksort(A, p, q - 1)\n",
    "        Quicksort(A, q + 1, r)    "
   ]
  },
  {
   "cell_type": "code",
   "execution_count": 3,
   "metadata": {},
   "outputs": [
    {
     "name": "stdout",
     "output_type": "stream",
     "text": [
      "True\n"
     ]
    }
   ],
   "source": [
    "n = 1000\n",
    "A = list(range(n))\n",
    "random.shuffle(A)\n",
    "\n",
    "Quicksort(A, 0, len(A)-1)\n",
    "\n",
    "# testing if the sort worked\n",
    "l = A\n",
    "print(all(l[i] <= l[i+1] for i in range(len(l)-1)))"
   ]
  },
  {
   "cell_type": "code",
   "execution_count": 4,
   "metadata": {},
   "outputs": [],
   "source": [
    "def RandomizedPartion(A, p, r):\n",
    "    # get random index between p and r inclusive\n",
    "    i = random.randrange(p, r+1)\n",
    "        \n",
    "    # swap element at A[i] with A[r]\n",
    "    tmp = A[i]\n",
    "    A[i] = A[r]\n",
    "    A[r] = tmp\n",
    "    \n",
    "    return Partion(A, p, r)   \n",
    "\n",
    "def RandomizedQuicksort(A, p, r):\n",
    "    if p < r:\n",
    "        q = RandomizedPartion(A, p, r)\n",
    "        RandomizedQuicksort(A, p, q - 1)\n",
    "        RandomizedQuicksort(A, q + 1, r)    "
   ]
  },
  {
   "cell_type": "code",
   "execution_count": 5,
   "metadata": {},
   "outputs": [
    {
     "name": "stdout",
     "output_type": "stream",
     "text": [
      "True\n"
     ]
    }
   ],
   "source": [
    "n = 1000\n",
    "A = list(range(n))\n",
    "random.shuffle(A)\n",
    "\n",
    "RandomizedQuicksort(A, 0, len(A)-1)\n",
    "\n",
    "# testing if the sort worked\n",
    "l = A\n",
    "print(all(l[i] <= l[i+1] for i in range(len(l)-1)))"
   ]
  }
 ],
 "metadata": {
  "kernelspec": {
   "display_name": "Python 3",
   "language": "python",
   "name": "python3"
  },
  "language_info": {
   "codemirror_mode": {
    "name": "ipython",
    "version": 3
   },
   "file_extension": ".py",
   "mimetype": "text/x-python",
   "name": "python",
   "nbconvert_exporter": "python",
   "pygments_lexer": "ipython3",
   "version": "3.8.3"
  }
 },
 "nbformat": 4,
 "nbformat_minor": 4
}
