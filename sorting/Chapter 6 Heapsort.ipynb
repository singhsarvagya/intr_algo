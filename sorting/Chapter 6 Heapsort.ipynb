{
 "cells": [
  {
   "cell_type": "code",
   "execution_count": 1,
   "metadata": {},
   "outputs": [],
   "source": [
    "import random\n",
    "import math"
   ]
  },
  {
   "cell_type": "code",
   "execution_count": 2,
   "metadata": {},
   "outputs": [],
   "source": [
    "class Heap: \n",
    "    def __init__(self, arr): \n",
    "        self.arr = arr\n",
    "        self.size = len(arr)\n",
    "        \n",
    "        self.build_max_heap()\n",
    "        \n",
    "    def max_heapify(self, i):\n",
    "        # get left and right subtree index\n",
    "        l = Heap.left(i)\n",
    "        r = Heap.right(i)\n",
    "        \n",
    "        # getting the largest node value between i, l, r\n",
    "        largest = i\n",
    "        if l < self.size and self.arr[l] > self.arr[i]:\n",
    "            largest = l\n",
    "        if r < self.size and self.arr[r] > self.arr[largest]:\n",
    "            largest = r\n",
    "        \n",
    "        # if root of subtree is not largest\n",
    "        if largest != i:\n",
    "            # swap 'em\n",
    "            tmp = self.arr[i]\n",
    "            self.arr[i] = self.arr[largest]\n",
    "            self.arr[largest] = tmp\n",
    "            # run max heapify on the updated subtree \n",
    "            self.max_heapify(largest)\n",
    "            \n",
    "    def build_max_heap(self):\n",
    "        # start max heapify function one level above the tree leaves \n",
    "        for i in range(int(math.floor((self.size - 1)/2)), -1, -1):\n",
    "            self.max_heapify(i)\n",
    "        \n",
    "    def heap_maximum(self):\n",
    "        return self.arr[0]\n",
    "        \n",
    "    def extract_maximum(self):\n",
    "        if self.size == 1: # cannot pop from list of size 1\n",
    "            max_element = self.arr[0]\n",
    "            self.size = 0\n",
    "            self.arr = []\n",
    "            return max_element\n",
    "        elif self.size < 1:\n",
    "            return None\n",
    "        \n",
    "        # get max element\n",
    "        max_element = self.arr[0]\n",
    "        \n",
    "        # replace first elment by last element\n",
    "        self.arr[0] = self.arr.pop(self.size -1)\n",
    "        \n",
    "        # adjust size\n",
    "        self.size = len(self.arr)\n",
    "        \n",
    "        # heapify\n",
    "        self.max_heapify(0)\n",
    "        \n",
    "        return max_element\n",
    "\n",
    "    def increase_key(i, key):\n",
    "        if self.arr[i] > key:\n",
    "            return\n",
    "        \n",
    "        self.arr[i] == key\n",
    "        \n",
    "        while i > 0 and self.arr[Heap.parent(i)] < A[i]:\n",
    "            # swap with parent node as it is bigger than parent\n",
    "            tmp = self.arr[i]\n",
    "            self.arr[i] = self.arr[Heap.parent(i)]\n",
    "            self.arr[Heap.parent(i)] = tmp\n",
    "            \n",
    "            i = Heap.parent(i)\n",
    "            \n",
    "    def insert(self, key):\n",
    "        self.size += 1\n",
    "        self.arr.append(-math.inf)\n",
    "        self.increase_key(self.size-1, key)\n",
    "    \n",
    "    \n",
    "    # heap indexed at 0 \n",
    "    @staticmethod\n",
    "    def parent(i): \n",
    "        return int(math.floor((i - 1)/2))\n",
    "    \n",
    "    @staticmethod \n",
    "    def left(i):\n",
    "        return 2*i + 1\n",
    "    \n",
    "    @staticmethod\n",
    "    def right(i):\n",
    "        return 2*i + 2"
   ]
  },
  {
   "cell_type": "code",
   "execution_count": 3,
   "metadata": {},
   "outputs": [],
   "source": [
    "# sorting using a heap\n",
    "def sort(heap):\n",
    "    heap.build_max_heap()\n",
    "    for i in range(heap.size, 0, -1):\n",
    "        # swap root with the last element \n",
    "        tmp = heap.arr[0]\n",
    "        heap.arr[0] = heap.arr[heap.size - 1]\n",
    "        heap.arr[heap.size - 1] = tmp\n",
    "\n",
    "        # reduce size to only max heapify unsorted part\n",
    "        heap.size -= 1\n",
    "\n",
    "        # run max heapyify and rest of the heap\n",
    "        heap.max_heapify(0)\n",
    "\n",
    "    # restore size\n",
    "    heap.size = len(heap.arr)"
   ]
  },
  {
   "cell_type": "code",
   "execution_count": 4,
   "metadata": {},
   "outputs": [
    {
     "name": "stdout",
     "output_type": "stream",
     "text": [
      "True\n"
     ]
    }
   ],
   "source": [
    "# initialize a heap\n",
    "n = 1000\n",
    "heap = Heap([random.randrange(n) for i in range(n)])\n",
    "\n",
    "# sort using a heap\n",
    "sort(heap)\n",
    "\n",
    "# testing if the sort worked\n",
    "l = heap.arr\n",
    "print(all(l[i] <= l[i+1] for i in range(len(l)-1)))"
   ]
  },
  {
   "cell_type": "code",
   "execution_count": 5,
   "metadata": {},
   "outputs": [
    {
     "name": "stdout",
     "output_type": "stream",
     "text": [
      "True\n"
     ]
    }
   ],
   "source": [
    "# initialize a heap\n",
    "n = 10\n",
    "heap = Heap([random.randrange(n) for i in range(n)])\n",
    "\n",
    "test_arr = []\n",
    "for i in range(n):\n",
    "    test_arr.append(heap.extract_maximum())\n",
    "\n",
    "# testing if the max extracted worked\n",
    "l = test_arr\n",
    "print(all(l[i] >= l[i+1] for i in range(len(l)-1)))"
   ]
  }
 ],
 "metadata": {
  "kernelspec": {
   "display_name": "Python 3",
   "language": "python",
   "name": "python3"
  },
  "language_info": {
   "codemirror_mode": {
    "name": "ipython",
    "version": 3
   },
   "file_extension": ".py",
   "mimetype": "text/x-python",
   "name": "python",
   "nbconvert_exporter": "python",
   "pygments_lexer": "ipython3",
   "version": "3.8.3"
  }
 },
 "nbformat": 4,
 "nbformat_minor": 4
}
